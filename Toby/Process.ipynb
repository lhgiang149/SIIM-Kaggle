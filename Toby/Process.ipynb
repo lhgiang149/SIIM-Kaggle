{
 "cells": [
  {
   "cell_type": "markdown",
   "metadata": {},
   "source": [
    "# Data Process"
   ]
  },
  {
   "cell_type": "code",
   "execution_count": 379,
   "metadata": {},
   "outputs": [
    {
     "name": "stderr",
     "output_type": "stream",
     "text": [
      "c:\\programdata\\anaconda3\\envs\\ebox\\lib\\importlib\\_bootstrap.py:219: RuntimeWarning: numpy.ufunc size changed, may indicate binary incompatibility. Expected 192 from C header, got 216 from PyObject\n",
      "  return f(*args, **kwds)\n"
     ]
    }
   ],
   "source": [
    "import cv2\n",
    "import numpy as np \n",
    "import pandas as pd\n"
   ]
  },
  {
   "cell_type": "code",
   "execution_count": 380,
   "metadata": {},
   "outputs": [],
   "source": [
    "csv_path = '../data/train.csv'\n",
    "df = pd.read_csv(csv_path)\n",
    "# print(df.shape)\n",
    "# for i in image_name:\n",
    "#     print(df.iloc[1].age_approx.astype(np.int32))\n",
    "#     break\n",
    "name = np.array(df.image_name)\n",
    "sex = np.array(df.sex)\n",
    "age = np.array(df.age_approx).astype(np.int32)\n",
    "location = np.array(df.anatom_site_general_challenge)\n",
    "label = np.array(df.target)"
   ]
  },
  {
   "cell_type": "code",
   "execution_count": 381,
   "metadata": {},
   "outputs": [
    {
     "name": "stdout",
     "output_type": "stream",
     "text": [
      "Number malignant:  584\n",
      "Age 55: 64\n",
      "Age 50: 53\n",
      "Age 65: 70\n",
      "Age 75: 62\n",
      "Age 35: 25\n",
      "Age 80: 36\n",
      "Age 30: 24\n",
      "Age 70: 58\n",
      "Age 60: 65\n",
      "Age 40: 24\n",
      "Age 25: 16\n",
      "Age 20: 6\n",
      "Age 90: 16\n",
      "Age 45: 54\n",
      "Age 85: 9\n",
      "Age 15: 2\n",
      "upper extremity: 111\n",
      "torso: 257\n",
      "lower extremity: 124\n",
      "head/neck: 74\n",
      "palms/soles: 5\n",
      "nan: 9\n",
      "oral/genital: 4\n",
      "female: 220\n",
      "male: 364\n"
     ]
    }
   ],
   "source": [
    "import collections\n",
    "\n",
    "def print_dict(d, name = ''):\n",
    "    for key, value in d.items():\n",
    "        print(name + str(key) + ':', str(value))\n",
    "\n",
    "sort_sex = collections.Counter(sex[np.where(label == 1)])\n",
    "sort_age = collections.Counter(age[np.where(label == 1)])\n",
    "sort_position = collections.Counter(location[np.where(label == 1)])\n",
    "number_malignant = np.where(label==1)[0].shape[0]\n",
    "\n",
    "print('Number malignant: ', number_malignant) \n",
    "print_dict(sort_age, 'Age ')\n",
    "print_dict(sort_position)\n",
    "print_dict(sort_sex)\n"
   ]
  },
  {
   "cell_type": "code",
   "execution_count": 384,
   "metadata": {},
   "outputs": [
    {
     "ename": "TypeError",
     "evalue": "ufunc 'add' did not contain a loop with signature matching types dtype('<U14') dtype('<U14') dtype('<U14')",
     "output_type": "error",
     "traceback": [
      "\u001b[1;31m---------------------------------------------------------------------------\u001b[0m",
      "\u001b[1;31mTypeError\u001b[0m                                 Traceback (most recent call last)",
      "\u001b[1;32m<ipython-input-384-655a8ada55aa>\u001b[0m in \u001b[0;36m<module>\u001b[1;34m\u001b[0m\n\u001b[0;32m     22\u001b[0m \u001b[0mimage_nev\u001b[0m \u001b[1;33m=\u001b[0m \u001b[1;33m[\u001b[0m\u001b[0mcv2\u001b[0m\u001b[1;33m.\u001b[0m\u001b[0mimread\u001b[0m\u001b[1;33m(\u001b[0m\u001b[0mbase\u001b[0m \u001b[1;33m+\u001b[0m \u001b[0mi\u001b[0m \u001b[1;33m+\u001b[0m \u001b[1;34m'.jpg'\u001b[0m\u001b[1;33m)\u001b[0m \u001b[1;32mfor\u001b[0m \u001b[0mi\u001b[0m \u001b[1;32min\u001b[0m \u001b[0mnegative_name\u001b[0m\u001b[1;33m[\u001b[0m\u001b[1;33m:\u001b[0m\u001b[1;36m22\u001b[0m\u001b[1;33m]\u001b[0m\u001b[1;33m]\u001b[0m\u001b[1;33m\u001b[0m\u001b[1;33m\u001b[0m\u001b[0m\n\u001b[0;32m     23\u001b[0m \u001b[1;33m\u001b[0m\u001b[0m\n\u001b[1;32m---> 24\u001b[1;33m \u001b[0mnew_img\u001b[0m \u001b[1;33m=\u001b[0m \u001b[1;33m[\u001b[0m\u001b[0mcv2\u001b[0m\u001b[1;33m.\u001b[0m\u001b[0mimread\u001b[0m\u001b[1;33m(\u001b[0m\u001b[0mbase\u001b[0m \u001b[1;33m+\u001b[0m \u001b[0mi\u001b[0m \u001b[1;33m+\u001b[0m \u001b[1;34m'.jpg'\u001b[0m\u001b[1;33m)\u001b[0m \u001b[1;32mfor\u001b[0m \u001b[0mi\u001b[0m \u001b[1;32min\u001b[0m \u001b[0mnew\u001b[0m\u001b[1;33m[\u001b[0m\u001b[1;33m:\u001b[0m\u001b[1;36m22\u001b[0m\u001b[1;33m]\u001b[0m\u001b[1;33m]\u001b[0m\u001b[1;33m\u001b[0m\u001b[1;33m\u001b[0m\u001b[0m\n\u001b[0m",
      "\u001b[1;32m<ipython-input-384-655a8ada55aa>\u001b[0m in \u001b[0;36m<listcomp>\u001b[1;34m(.0)\u001b[0m\n\u001b[0;32m     22\u001b[0m \u001b[0mimage_nev\u001b[0m \u001b[1;33m=\u001b[0m \u001b[1;33m[\u001b[0m\u001b[0mcv2\u001b[0m\u001b[1;33m.\u001b[0m\u001b[0mimread\u001b[0m\u001b[1;33m(\u001b[0m\u001b[0mbase\u001b[0m \u001b[1;33m+\u001b[0m \u001b[0mi\u001b[0m \u001b[1;33m+\u001b[0m \u001b[1;34m'.jpg'\u001b[0m\u001b[1;33m)\u001b[0m \u001b[1;32mfor\u001b[0m \u001b[0mi\u001b[0m \u001b[1;32min\u001b[0m \u001b[0mnegative_name\u001b[0m\u001b[1;33m[\u001b[0m\u001b[1;33m:\u001b[0m\u001b[1;36m22\u001b[0m\u001b[1;33m]\u001b[0m\u001b[1;33m]\u001b[0m\u001b[1;33m\u001b[0m\u001b[1;33m\u001b[0m\u001b[0m\n\u001b[0;32m     23\u001b[0m \u001b[1;33m\u001b[0m\u001b[0m\n\u001b[1;32m---> 24\u001b[1;33m \u001b[0mnew_img\u001b[0m \u001b[1;33m=\u001b[0m \u001b[1;33m[\u001b[0m\u001b[0mcv2\u001b[0m\u001b[1;33m.\u001b[0m\u001b[0mimread\u001b[0m\u001b[1;33m(\u001b[0m\u001b[0mbase\u001b[0m \u001b[1;33m+\u001b[0m \u001b[0mi\u001b[0m \u001b[1;33m+\u001b[0m \u001b[1;34m'.jpg'\u001b[0m\u001b[1;33m)\u001b[0m \u001b[1;32mfor\u001b[0m \u001b[0mi\u001b[0m \u001b[1;32min\u001b[0m \u001b[0mnew\u001b[0m\u001b[1;33m[\u001b[0m\u001b[1;33m:\u001b[0m\u001b[1;36m22\u001b[0m\u001b[1;33m]\u001b[0m\u001b[1;33m]\u001b[0m\u001b[1;33m\u001b[0m\u001b[1;33m\u001b[0m\u001b[0m\n\u001b[0m",
      "\u001b[1;31mTypeError\u001b[0m: ufunc 'add' did not contain a loop with signature matching types dtype('<U14') dtype('<U14') dtype('<U14')"
     ]
    }
   ],
   "source": [
    "import os\n",
    "import pandas as pd\n",
    "import numpy as np\n",
    "import cv2\n",
    "import matplotlib.pyplot as plt\n",
    "\n",
    "csv_path = '../data/train.csv'\n",
    "df = pd.read_csv(csv_path)\n",
    "\n",
    "name = np.array(df.image_name)\n",
    "label = np.array(df.target.to_list())\n",
    "\n",
    "positive = np.where(label == 1)\n",
    "positive_name = name[positive]\n",
    "\n",
    "negative = np.where(label == 0)\n",
    "negative_name = name[negative]\n",
    "\n",
    "base = 'E:/SIIM/train/'\n",
    "\n",
    "image_pos = [cv2.imread(base + i + '.jpg') for i in positive_name[:22]]\n",
    "image_nev = [cv2.imread(base + i + '.jpg') for i in negative_name[:22]]\n",
    "\n",
    "new_img = [cv2.imread(base + i + '.jpg') for i in new[:22]]"
   ]
  },
  {
   "cell_type": "code",
   "execution_count": null,
   "metadata": {},
   "outputs": [],
   "source": [
    "w=10\n",
    "h=10\n",
    "fig=plt.figure(figsize=(15, 15))\n",
    "columns = 4\n",
    "rows = 5\n",
    "for i in range(1, columns*rows +1):\n",
    "    img = image_pos[i]\n",
    "    img = img[:,:,::-1]\n",
    "    fig.add_subplot(rows, columns, i)\n",
    "    plt.imshow(img)\n",
    "plt.show()"
   ]
  },
  {
   "cell_type": "code",
   "execution_count": null,
   "metadata": {},
   "outputs": [],
   "source": [
    "w=10\n",
    "h=10\n",
    "fig=plt.figure(figsize=(15, 15))\n",
    "columns = 4\n",
    "rows = 5\n",
    "for i in range(1, columns*rows +1):\n",
    "    img = image_nev[i]\n",
    "    img = img[:,:,::-1]\n",
    "    fig.add_subplot(rows, columns, i)\n",
    "    plt.imshow(img)\n",
    "plt.show()"
   ]
  },
  {
   "cell_type": "markdown",
   "metadata": {},
   "source": [
    "# Test Evaluation (AUC, ROC, Confusion Matrix)"
   ]
  },
  {
   "cell_type": "code",
   "execution_count": 382,
   "metadata": {},
   "outputs": [],
   "source": [
    "import numpy as np\n",
    "from sklearn.metrics import roc_curve, auc, roc_auc_score\n",
    "\n",
    "np.random.seed(20)\n",
    "label = [0,1,0,0,0,1,1,0,0,0,0]\n",
    "predict = np.random.rand(len(label))\n",
    "# predict = [0,1,0,0,0,1,0,0,0,0,0]\n",
    "fpr, tpr, thresholds = roc_curve(label, predict, pos_label = 1)\n",
    "\n",
    "score = roc_auc_score(label, predict)\n",
    "# predict = predict > 0.5"
   ]
  },
  {
   "cell_type": "code",
   "execution_count": 383,
   "metadata": {},
   "outputs": [
    {
     "data": {
      "image/png": "[encoded data removed]",
      "text/plain": [
       "<Figure size 432x288 with 1 Axes>"
      ]
     },
     "metadata": {
      "needs_background": "light"
     },
     "output_type": "display_data"
    }
   ],
   "source": [
    "import matplotlib.pyplot as plt\n",
    "from itertools import cycle\n",
    "plt.figure()\n",
    "lw = 2\n",
    "plt.plot(fpr, tpr, color='darkorange',\n",
    "         lw=lw, label='ROC curve (area = %0.2f)' % auc(fpr, tpr))\n",
    "plt.plot([0, 1], [0, 1], color='navy', lw=lw, linestyle='--')\n",
    "plt.xlim([0.0, 1.0])\n",
    "plt.ylim([0.0, 1.05])\n",
    "plt.xlabel('False Positive Rate')\n",
    "plt.ylabel('True Positive Rate')\n",
    "plt.title('Receiver operating characteristic example')\n",
    "plt.legend(loc=\"lower right\")\n",
    "plt.show()"
   ]
  },
  {
   "cell_type": "code",
   "execution_count": null,
   "metadata": {},
   "outputs": [],
   "source": [
    "\n",
    "def evaluate(y_true, predict_score, pos_label = 1, plot = True):\n",
    "    # AUC score for model\n",
    "    fpr, tpr, thresholds = roc_curve(y_true, predict_score, pos_label = 1)\n",
    "    if plot:\n",
    "        plt.figure()\n",
    "        lw = 2\n",
    "        plt.plot(fpr, tpr, color='darkorange',\n",
    "                lw=lw, label='ROC curve (area = %0.2f)' % auc(fpr, tpr))\n",
    "        plt.plot([0, 1], [0, 1], color='navy', lw=lw, linestyle='--')\n",
    "        plt.xlim([0.0, 1.0])\n",
    "        plt.ylim([0.0, 1.05])\n",
    "        plt.xlabel('False Positive Rate')\n",
    "        plt.ylabel('True Positive Rate')\n",
    "        plt.title('Receiver operating characteristic example')\n",
    "        plt.legend(loc=\"lower right\")\n",
    "        plt.show()\n",
    "    return auc(fpr, tpr)\n",
    "\n",
    "\n",
    "label = np.array([0,1,1,1,1,0,0,1,1,1])\n",
    "np.random.seed(20)\n",
    "predict = np.random.rand(label.shape[0])\n",
    "print(predict)\n",
    "# predict = predict[:,1]\n",
    "print(label.shape)\n",
    "print(predict.shape)\n",
    "\n",
    "evaluate(label, predict)"
   ]
  },
  {
   "cell_type": "code",
   "execution_count": 13,
   "metadata": {},
   "outputs": [
    {
     "name": "stdout",
     "output_type": "stream",
     "text": [
      "predict  [1, 1, 1, 1, 0, 1, 0, 1, 1, 0]\n",
      "label:   [0, 1, 1, 1, 1, 0, 0, 1, 1, 0]\n",
      "[[2 2]\n",
      " [1 5]]\n"
     ]
    },
    {
     "data": {
      "image/png": "[encoded data removed]",
      "text/plain": [
       "<Figure size 720x576 with 2 Axes>"
      ]
     },
     "metadata": {},
     "output_type": "display_data"
    }
   ],
   "source": [
    "import sklearn.metrics as sk\n",
    "import seaborn as sn\n",
    "from matplotlib import pyplot as plt\n",
    "\n",
    "label = np.array([[0,1,1,1,1,0,0,1,1,0]])\n",
    "label = np.reshape(label, [max(label.shape)])\n",
    "# print(label.shape)\n",
    "np.random.seed(20)\n",
    "predict = np.random.rand(label.shape[0])\n",
    "predict = predict > 0.5\n",
    "print('predict ', [int(i) for i in predict])\n",
    "print('label:  ',[i for i in label])\n",
    "confusion = np.round(sk.confusion_matrix(label,predict))\n",
    "df_cm = pd.DataFrame(confusion, index = [i for i in [\"Benign\", \"Malignant\"]],\n",
    "                    columns = [i for i in [\"Benign\", \"Malignant\"]])\n",
    "plt.figure(figsize = (10,8))\n",
    "sn.set(font_scale=1.4)\n",
    "sn.heatmap(df_cm, annot=True, annot_kws={\"size\": 20}, fmt=\"d\")\n",
    "# plt.savefig('')\n",
    "print(confusion)"
   ]
  },
  {
   "cell_type": "markdown",
   "metadata": {},
   "source": [
    "# Test Augmentation"
   ]
  },
  {
   "cell_type": "code",
   "execution_count": null,
   "metadata": {},
   "outputs": [],
   "source": [
    "from albumentations import *\n",
    "import albumentations.pytorch as AT\n",
    "\n",
    "    transforms = Compose([\n",
    "        Resize(456, 456),\n",
    "        Normalize(),\n",
    "    #     AT.ToTensor()\n",
    "    ])\n",
    "\n",
    "def augmentation(p=0.5):\n",
    "    return Compose([\n",
    "        RandomRotate90(),\n",
    "        Flip(),\n",
    "        Transpose(),\n",
    "        GaussNoise(),\n",
    "        Blur(),\n",
    "        VerticalFlip(),\n",
    "        HorizontalFlip(),\n",
    "        Flip(),\n",
    "        RandomRotate90(),\n",
    "        HueSaturationValue(hue_shift_limit=5, sat_shift_limit=15, val_shift_limit=10),\n",
    "        RGBShift(r_shift_limit=10, g_shift_limit=10, b_shift_limit=10),\n",
    "        RandomBrightness(limit = 0.05),    \n",
    "    ], p=p)\n",
    "\n",
    "img = image_pos[2]\n",
    "aug = augmentation(p = 0.5)\n",
    "image = aug(image = img)[\"image\"]\n",
    "image = transforms(image = image)[\"image\"]\n",
    "cv2.namedWindow('image1', cv2.WINDOW_NORMAL)\n",
    "cv2.resizeWindow('image1', (800,600))\n",
    "cv2.namedWindow('image2', cv2.WINDOW_NORMAL)\n",
    "cv2.resizeWindow('image2', (800,600))\n",
    "cv2.imshow('image1',img)\n",
    "cv2.imshow('image2',image)\n",
    "cv2.waitKey()\n",
    "cv2.destroyAllWindows()"
   ]
  },
  {
   "cell_type": "code",
   "execution_count": null,
   "metadata": {},
   "outputs": [],
   "source": [
    "import cv2\n",
    "import numpy as np \n",
    "import pandas as pd\n",
    "\n",
    "from torch.utils.data import Dataset\n",
    "from matplotlib import pyplot as plt\n",
    "from info import AllLabel\n",
    "from sklearn.metrics import roc_curve, auc\n",
    "from albumentations import (\n",
    "    RandomRotate90, Flip, Transpose, GaussNoise, Blur, VerticalFlip, HorizontalFlip, Flip, \\\n",
    "    HueSaturationValue, RGBShift, RandomBrightness, Resize, Normalize, Compose)\n",
    "import albumentations.pytorch as AT\n",
    "\n",
    "\n",
    "transforms = Compose([\n",
    "    Resize(456, 456),\n",
    "    Normalize(),\n",
    "    AT.ToTensor()\n",
    "])\n",
    "\n",
    "dataroot = 'E:/SIIM/train/'\n",
    "\n",
    "def augmentation(p=0.5):\n",
    "    return Compose([\n",
    "        RandomRotate90(),\n",
    "        Flip(),\n",
    "        Transpose(),\n",
    "        GaussNoise(),\n",
    "        Blur(),\n",
    "        VerticalFlip(),\n",
    "        HorizontalFlip(),\n",
    "        Flip(),\n",
    "        HueSaturationValue(hue_shift_limit=5, sat_shift_limit=15, val_shift_limit=10),\n",
    "        RGBShift(r_shift_limit=10, g_shift_limit=10, b_shift_limit=10),\n",
    "        RandomBrightness(limit = 0.05),    \n",
    "    ], p=p)\n",
    "\n",
    "class PyTorchImageDataset(Dataset):\n",
    "    def __init__(self, image_list, labels):\n",
    "        self.image_list = image_list\n",
    "        self.labels = labels\n",
    "        self.augment = augmentation()\n",
    "        self.transforms = transforms\n",
    "         \n",
    "    def __len__(self):\n",
    "        return (len(self.image_list))\n",
    "    \n",
    "    def __getitem__(self, i):\n",
    "#         print(dataroot + self.image_list[i] + '.jpg')\n",
    "        image = cv2.imread(dataroot+self.image_list[i]+ '.jpg')\n",
    "        image = cv2.cvtColor(image, cv2.COLOR_BGR2RGB)\n",
    "        label = self.labels[i]\n",
    "        if self.transforms is not None:\n",
    "            image = self.augment(image = image)['image']\n",
    "            image = self.transforms(image = image)['image']\n",
    "        return image, label"
   ]
  },
  {
   "cell_type": "markdown",
   "metadata": {},
   "source": [
    "# Test Split Data"
   ]
  },
  {
   "cell_type": "code",
   "execution_count": null,
   "metadata": {},
   "outputs": [],
   "source": [
    "from sklearn.model_selection import train_test_split\n",
    "\n",
    "dataframe = pd.read_csv('./../data/train.csv')\n",
    "\n",
    "IDs = dataframe.image_name.to_list()\n",
    "labels = dataframe.target.to_list()\n",
    "train ,val, y_train,y_val = train_test_split(IDs, labels, test_size = 0.2, random_state = 42, shuffle = True)\n",
    "\n",
    "from torch.utils.data import DataLoader\n",
    "\n",
    "# train_dataset = PyTorchImageDataset(image_list= train, labels = y_train)\n",
    "# train_dataloader = DataLoader(dataset=train_dataset, batch_size=32, shuffle=True, num_workers=2)\n",
    "\n",
    "val_dataset = PyTorchImageDataset(image_list=val, labels=y_val)\n",
    "val_dataloader = DataLoader(dataset=val_dataset, batch_size=32, shuffle=True, num_workers=0)\n"
   ]
  },
  {
   "cell_type": "markdown",
   "metadata": {},
   "source": [
    "# TobyNet, yayyyy!!!"
   ]
  },
  {
   "cell_type": "code",
   "execution_count": null,
   "metadata": {},
   "outputs": [],
   "source": [
    "import cv2\n",
    "import numpy as np \n",
    "import pandas as pd\n",
    "\n",
    "import torch.nn as nn\n",
    "from torch.utils.data import Dataset\n",
    "\n",
    "from matplotlib import pyplot as plt\n",
    "import albumentations.pytorch as AT\n",
    "from info import AllLabel\n",
    "from sklearn.metrics import roc_curve, auc\n",
    "from albumentations import (\n",
    "    RandomRotate90, Flip, Transpose, GaussNoise, Blur, VerticalFlip, HorizontalFlip, Flip, \\\n",
    "    HueSaturationValue, RGBShift, RandomBrightness, Resize, Normalize, Compose)\n",
    "\n",
    "import sys\n",
    "sys.path.append(r'C:\\Users\\emage\\OneDrive\\Desktop\\SIIM-ISIC-Melanoma-Classification\\efficientnet_pytorch/')\n",
    "\n",
    "\n",
    "from model import EfficientNet\n",
    "\n",
    "\n",
    "\n",
    "class TobyNet():\n",
    "    def __init__(self, model_name, weights_path, **kwags):\n",
    "        self.model_name = model_name\n",
    "        self.weights_path = weights_path\n",
    "        self.num_classes = kwags.pop('num_classes', 1000)\n",
    "        self.imagenet = kwags.pop('imagenet', False)\n",
    "\n",
    "    def initModel(self):\n",
    "        try:\n",
    "            model = EfficientNet.from_pretrained(self.model_name, weights_path= self.weights_path, num_classes= self.num_classes)\n",
    "            return model\n",
    "        except TypeError:\n",
    "            model = EfficientNet.from_pretrained(self.model_name, weights_path= self.weights_path)\n",
    "            model._fc = nn.Linear(2048, self.num_classes)\n",
    "            return model\n"
   ]
  },
  {
   "cell_type": "code",
   "execution_count": null,
   "metadata": {},
   "outputs": [],
   "source": [
    "import os\n",
    "weight_path = os.getcwd() + '\\\\..\\\\efficientnet_pytorch\\\\weights\\\\efficientnet-b5-b6417697.pth'\n",
    "    \n",
    "model = TobyNet('efficientnet-b5', weights_path = weight_path)\n",
    "print(model.initModel())"
   ]
  },
  {
   "cell_type": "markdown",
   "metadata": {},
   "source": [
    "# Oversampling negative data"
   ]
  },
  {
   "cell_type": "code",
   "execution_count": null,
   "metadata": {},
   "outputs": [],
   "source": [
    "import os\n",
    "import cv2\n",
    "import numpy as np\n",
    "\n",
    "def extract_feature(image):\n",
    "    blur = cv2.medianBlur(image, 5)\n",
    "    kernel = np.ones((21,21),np.uint8)\n",
    "    ret,thresh = cv2.threshold(blur,200,0,cv2.THRESH_BINARY_INV)\n",
    "#     th3 = cv2.adaptiveThreshold(blur,255,cv2.ADAPTIVE_THRESH_GAUSSIAN_C,cv2.THRESH_BINARY,11,2)\n",
    "\n",
    "#     opening = cv2.morphologyEx(thresh, cv2.MORPH_OPEN, kernel)\n",
    "#     edges = cv2.Canny(thresh,10,230)\n",
    "#     print(edges.shape)\n",
    "    return thresh\n",
    "\n",
    "\n",
    "\n",
    "\n",
    "image_path = 'E:/SIIM/train/'\n",
    "\n",
    "for i in os.listdir(image_path):\n",
    "    image = cv2.imread(image_path +i, 0)\n",
    "    feature = extract_feature(image)\n",
    "    \n",
    "    cv2.namedWindow('image1', cv2.WINDOW_NORMAL)\n",
    "    cv2.resizeWindow('image1', 800,500)\n",
    "    cv2.namedWindow('image2', cv2.WINDOW_NORMAL)\n",
    "    cv2.resizeWindow('image2', 800,500)\n",
    "#     cv2.imshow('image',image)\n",
    "    cv2.imshow('image2', feature)\n",
    "    cv2.imshow('image1', image)\n",
    "    cv2.waitKey()\n",
    "    cv2.destroyAllWindows()\n",
    "    \n",
    "\n",
    "\n",
    "\n"
   ]
  },
  {
   "cell_type": "code",
   "execution_count": 3,
   "metadata": {},
   "outputs": [
    {
     "name": "stdout",
     "output_type": "stream",
     "text": [
      "26500\n",
      "40450\n"
     ]
    }
   ],
   "source": [
    "from sklearn.model_selection import train_test_split\n",
    "import cv2\n",
    "import numpy as np \n",
    "import pandas as pd\n",
    "\n",
    "def oversamplingData(X,y, labels_less = 1):\n",
    "    '''\n",
    "    Duplicate number of sample which was imbalanced\n",
    "    '''\n",
    "    X = np.array(X)\n",
    "    y = np.array(y)\n",
    "    position_less = np.where(y==labels_less)\n",
    "    num_less = len(position_less[0])\n",
    "    num_more = len(X) - num_less\n",
    "    scale = num_more//num_less\n",
    "    scale = scale -1 if scale > 2 else 1\n",
    "    less_sample = np.repeat(X[position_less], scale) \n",
    "    less_label = np.repeat([labels_less], len(less_sample))\n",
    "    X = np.concatenate((X,less_sample))\n",
    "    y = np.concatenate((y,less_label))\n",
    "    return X, y \n",
    "\n",
    "dataframe = pd.read_csv('./../data/train.csv')\n",
    "\n",
    "IDs = dataframe.image_name.to_list()\n",
    "labels = dataframe.target.to_list()\n",
    "train ,val, y_train,y_val = train_test_split(IDs, labels, test_size = 0.2, random_state = 42, shuffle = True)\n",
    "\n",
    "print(len(train))\n",
    "\n",
    "train, y_train = oversamplingData(X = train, y =y_train)\n",
    "\n",
    "print(len(train))"
   ]
  },
  {
   "cell_type": "markdown",
   "metadata": {},
   "source": [
    "# Test SMOTE for image, but seem not good at all, will test again later ☺☻"
   ]
  },
  {
   "cell_type": "code",
   "execution_count": null,
   "metadata": {},
   "outputs": [],
   "source": [
    "from imblearn.over_sampling import SMOTE\n",
    "sm = SMOTE(random_state = 42)\n",
    "# sm = SMOTE(ratio = 1)"
   ]
  },
  {
   "cell_type": "code",
   "execution_count": null,
   "metadata": {},
   "outputs": [],
   "source": [
    "import os \n",
    "base = 'C:/Users/emage/OneDrive/Desktop/image/'\n",
    "image = cv2.imread('C:/Users/emage/OneDrive/Desktop/something.png')\n",
    "ori_shape = (608,608)\n",
    "image = cv2.resize(image, ori_shape, cv2.INTER_LINEAR)\n",
    "image = np.reshape(image, [1] + list(image.shape))\n",
    "for i in os.listdir(base):\n",
    "    new = cv2.imread(base + i)\n",
    "    new = cv2.resize(new, ori_shape, cv2.INTER_LINEAR)\n",
    "    new = np.reshape(new, [1] + list(new.shape))\n",
    "    image = np.concatenate((image,new), axis = 0)"
   ]
  },
  {
   "cell_type": "code",
   "execution_count": null,
   "metadata": {},
   "outputs": [],
   "source": [
    "for img in image:\n",
    "    cv2.imshow('image', img)\n",
    "    cv2.waitKey()\n",
    "    cv2.destroyAllWindows()"
   ]
  },
  {
   "cell_type": "code",
   "execution_count": null,
   "metadata": {},
   "outputs": [],
   "source": [
    "import cv2\n",
    "import numpy as np\n",
    "\n",
    "print(image.shape)\n",
    "\n",
    "# image = cv2.imread('C:/Users/emage/OneDrive/Desktop/something.png')\n",
    "# ori_shape = image.shape\n",
    "# image = np.reshape(image, [1] + list(image.shape))\n",
    "# batch = np.repeat(image, repeats = 10, axis = 0)\n",
    "\n",
    "batch = np.reshape(image, (-1,np.prod(np.array(ori_shape))*3))\n",
    "\n",
    "label = np.array([0,0,0,0,0,0,0,1,1,1,1,1,1])\n",
    "# # label = \n",
    "\n",
    "print(batch.shape, label.shape)\n",
    "X, y = sm.fit_resample(batch, label)\n",
    "\n",
    "print(X.shape)\n",
    "\n",
    "batch = np.reshape(X, [-1] + list(ori_shape) +[3])\n",
    "for img in batch:\n",
    "    cv2.imshow('image', img)\n",
    "    cv2.waitKey()\n",
    "    cv2.destroyAllWindows()"
   ]
  },
  {
   "cell_type": "code",
   "execution_count": 455,
   "metadata": {},
   "outputs": [
    {
     "name": "stdout",
     "output_type": "stream",
     "text": [
      "(448, 448, 3)\n"
     ]
    }
   ],
   "source": [
    "from albumentations import *\n",
    "\n",
    "def aug(p = 0.5):\n",
    "    return Compose([\n",
    "    RandomContrast(always_apply = True)\n",
    "    ], p =p)\n",
    "\n",
    "aug = aug()\n",
    "# image = cv2.imread('C:/Users/emage/OneDrive/Desktop/something.png')\n",
    "image = cv2.imread('E:/SIIM/train_resize/ISIC_0015719.jpg')\n",
    "image = cv2.resize(image, (448,448), cv2.INTER_AREA)\n",
    "image = aug(image = image)['image']\n",
    "print(image.shape)\n",
    "cv2.imshow('image', image)\n",
    "cv2.waitKey()\n",
    "cv2.destroyAllWindows()"
   ]
  },
  {
   "cell_type": "markdown",
   "metadata": {},
   "source": [
    "# Class weight ♥♦♣♠"
   ]
  },
  {
   "cell_type": "code",
   "execution_count": 4,
   "metadata": {},
   "outputs": [
    {
     "name": "stdout",
     "output_type": "stream",
     "text": [
      "[0.77683887 1.40305238]\n"
     ]
    },
    {
     "name": "stderr",
     "output_type": "stream",
     "text": [
      "c:\\programdata\\anaconda3\\envs\\ebox\\lib\\site-packages\\sklearn\\utils\\validation.py:71: FutureWarning: Pass classes=[0, 1], y=[0 0 0 ... 1 1 1] as keyword args. From version 0.25 passing these as positional arguments will result in an error\n",
      "  FutureWarning)\n"
     ]
    }
   ],
   "source": [
    "import pandas as pd\n",
    "from sklearn.utils.class_weight import compute_class_weight\n",
    "path = 'C:/Users/emage/OneDrive/Desktop/SIIM-ISIC-Melanoma-Classification/data/train.csv'\n",
    "df = pd.read_csv(path)\n",
    "y = df.target\n",
    "print(compute_class_weight('balanced', [0,1], y))"
   ]
  }
 ],
 "metadata": {
  "kernelspec": {
   "display_name": "Python 3",
   "language": "python",
   "name": "python3"
  },
  "language_info": {
   "codemirror_mode": {
    "name": "ipython",
    "version": 3
   },
   "file_extension": ".py",
   "mimetype": "text/x-python",
   "name": "python",
   "nbconvert_exporter": "python",
   "pygments_lexer": "ipython3",
   "version": "3.7.6"
  }
 },
 "nbformat": 4,
 "nbformat_minor": 4
}
